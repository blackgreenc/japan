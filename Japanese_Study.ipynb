{
  "nbformat": 4,
  "nbformat_minor": 0,
  "metadata": {
    "colab": {
      "name": "Japanese Study",
      "provenance": [],
      "authorship_tag": "ABX9TyM09ycoTbS6NHNKNxBqN7s+",
      "include_colab_link": true
    },
    "kernelspec": {
      "name": "python3",
      "display_name": "Python 3"
    },
    "language_info": {
      "name": "python"
    }
  },
  "cells": [
    {
      "cell_type": "markdown",
      "metadata": {
        "id": "view-in-github",
        "colab_type": "text"
      },
      "source": [
        "<a href=\"https://colab.research.google.com/github/blackgreenc/japan/blob/main/Japanese_Study.ipynb\" target=\"_parent\"><img src=\"https://colab.research.google.com/assets/colab-badge.svg\" alt=\"Open In Colab\"/></a>"
      ]
    },
    {
      "cell_type": "markdown",
      "metadata": {
        "id": "hfiJbtons7e5"
      },
      "source": [
        "<a href = \"https://www.youtube.com/watch?v=dy9p6gfHquI\">N2문법 강의</a>"
      ]
    },
    {
      "cell_type": "markdown",
      "metadata": {
        "id": "AINKZ_uAr52r"
      },
      "source": [
        "<h3>예상이나 생각과 정반대일 때</h3>\n",
        "<h1>~にしては</h1>\n",
        "<h3>~치고는</h3>"
      ]
    }
  ]
}