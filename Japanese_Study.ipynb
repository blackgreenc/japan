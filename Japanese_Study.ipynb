{
  "nbformat": 4,
  "nbformat_minor": 0,
  "metadata": {
    "colab": {
      "name": "Japanese Study",
      "provenance": [],
      "authorship_tag": "ABX9TyMaC0oxGk5XxfkdUz+UW0au",
      "include_colab_link": true
    },
    "kernelspec": {
      "name": "python3",
      "display_name": "Python 3"
    },
    "language_info": {
      "name": "python"
    }
  },
  "cells": [
    {
      "cell_type": "markdown",
      "metadata": {
        "id": "view-in-github",
        "colab_type": "text"
      },
      "source": [
        "<a href=\"https://colab.research.google.com/github/blackgreenc/japan/blob/main/Japanese_Study.ipynb\" target=\"_parent\"><img src=\"https://colab.research.google.com/assets/colab-badge.svg\" alt=\"Open In Colab\"/></a>"
      ]
    },
    {
      "cell_type": "markdown",
      "metadata": {
        "id": "hfiJbtons7e5"
      },
      "source": [
        "<a href = \"https://www.youtube.com/watch?v=dy9p6gfHquI\">N2문법 강의</a>"
      ]
    },
    {
      "cell_type": "markdown",
      "metadata": {
        "id": "AINKZ_uAr52r"
      },
      "source": [
        "<br>\n",
        "<h3>예상이나 생각과 정반대일 때</h3>\n",
        "<h2>~にしては</h2>\n",
        "<h2>~치고는</h2>\n",
        "<br>\n"
      ]
    },
    {
      "cell_type": "markdown",
      "metadata": {
        "id": "WwnOfN2JI506"
      },
      "source": [
        "<br>\n",
        "<h3>이미 정해진 것(룰, 규칙 계획, 방침, 매뉴얼)을 그대로 따라갈 때</h3>\n",
        "<h2>~に沿(そ)って</h2>\n",
        "<h2>~에 따라서</h2> \n",
        "<br>\n"
      ]
    },
    {
      "cell_type": "markdown",
      "metadata": {
        "id": "97MV90pxgB6R"
      },
      "source": [
        "<br>\n",
        "<h3>A(능력, 조건, 상황)에 맞춰서 B가 달라질 때</h3>\n",
        "<h2>~Aに応(おう)じてB</h2> \n",
        "<h2>~에 응해서, ~에 맞춰서, ~에 따라서</h2>\n",
        "<br>"
      ]
    },
    {
      "cell_type": "markdown",
      "metadata": {
        "id": "S5MndGBEI6AU"
      },
      "source": [
        "<br>\n",
        "<h3>예상한 것과는 다른 결과가 되었을 때</h3>\n",
        "<h2>~にもかかわらず</h2> \n",
        "<h2>~임에도 불구하고, ~이지만</h2>\n",
        "<br>"
      ]
    },
    {
      "cell_type": "markdown",
      "metadata": {
        "id": "PNNtJHCdFuDb"
      },
      "source": [
        "<br>\n",
        "<h3>무엇인가와 상관없을 때</h3>\n",
        "<h2>~にかかわらず</h2> \n",
        "<h2>~에 관계없이, ~에 상관없이</h2>\n",
        "<br>"
      ]
    }
  ]
}